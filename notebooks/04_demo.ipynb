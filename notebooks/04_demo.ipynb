{
  "nbformat": 4,
  "nbformat_minor": 0,
  "metadata": {
    "colab": {
      "provenance": [],
      "authorship_tag": "ABX9TyOInSKKt8LqHy6eDuJ3iu1B",
      "include_colab_link": true
    },
    "kernelspec": {
      "name": "python3",
      "display_name": "Python 3"
    },
    "language_info": {
      "name": "python"
    },
    "accelerator": "GPU",
    "gpuClass": "standard"
  },
  "cells": [
    {
      "cell_type": "markdown",
      "metadata": {
        "id": "view-in-github",
        "colab_type": "text"
      },
      "source": [
        "<a href=\"https://colab.research.google.com/github/soumik12345/BLR-ML-Monthly-Meetup/blob/main/notebooks/04_demo.ipynb\" target=\"_parent\"><img src=\"https://colab.research.google.com/assets/colab-badge.svg\" alt=\"Open In Colab\"/></a>"
      ]
    },
    {
      "cell_type": "code",
      "execution_count": 1,
      "metadata": {
        "id": "xikxIy8lgT1c"
      },
      "outputs": [],
      "source": [
        "!pip install -q --upgrade wandb gradio"
      ]
    },
    {
      "cell_type": "code",
      "source": [
        "import tensorflow as tf\n",
        "from tensorflow import keras\n",
        "\n",
        "import wandb\n",
        "import gradio as gr\n",
        "\n",
        "import os\n",
        "import numpy as np\n",
        "from PIL import Image\n",
        "from glob import glob"
      ],
      "metadata": {
        "id": "0BC3wHPAg0xU"
      },
      "execution_count": 2,
      "outputs": []
    },
    {
      "cell_type": "code",
      "source": [
        "def preprocess_image(image):\n",
        "    \"\"\"Preprocesses the image for inference.\n",
        "\n",
        "    Returns:\n",
        "        A numpy array of shape (1, height, width, 3) preprocessed for inference.\n",
        "    \"\"\"\n",
        "    image = keras.preprocessing.image.img_to_array(image)\n",
        "    image = image.astype(\"float32\") / 255.0\n",
        "    return np.expand_dims(image, axis=0)\n",
        "\n",
        "\n",
        "def postprocess_image(model_output):\n",
        "    \"\"\"Postprocesses the model output for inference.\n",
        "    \n",
        "    Returns:\n",
        "        A list of PIL.Image.Image objects postprocessed for visualization.\n",
        "    \"\"\"\n",
        "    model_output = model_output * 255.0\n",
        "    model_output = model_output.clip(0, 255)\n",
        "    image = model_output[0].reshape(\n",
        "        (np.shape(model_output)[1], np.shape(model_output)[2], 3)\n",
        "    )\n",
        "    return Image.fromarray(np.uint8(image))"
      ],
      "metadata": {
        "id": "OJwPzS09hTUA"
      },
      "execution_count": 3,
      "outputs": []
    },
    {
      "cell_type": "code",
      "source": [
        "def dehaze_image(wandb_project, wandb_entity, hazy_image, model_artifact_address, model_artifact_version):\n",
        "    model_artifact_address += \":\" + model_artifact_version\n",
        "    with wandb.init(project=wandb_project, entity=wandb_entity, job_type=\"demo\"):\n",
        "        artifact = wandb.use_artifact(model_artifact_address, type=\"model\")\n",
        "        model_path = artifact.download()\n",
        "        model = keras.models.load_model(model_path, compile=False)\n",
        "        preprocessed_hazy_images = preprocess_image(hazy_image)\n",
        "        prediction = postprocess_image(model.predict(preprocessed_hazy_images))\n",
        "        table = wandb.Table(columns=[\"Hazy-Image\", \"Predicted-Image\"])\n",
        "        table.add_data(wandb.Image(hazy_image), wandb.Image(prediction))\n",
        "        wandb.log({\"Demo-Table\": table})\n",
        "    return prediction\n",
        "\n",
        "\n",
        "model_artifact_versions = [\"latest\"] + [f\"v{idx}\" for idx in range(30)]\n",
        "\n",
        "demo = gr.Interface(\n",
        "    fn=dehaze_image,\n",
        "    inputs=[\n",
        "        gr.Text(value=\"image-dehazing\", label=\"WandB Project\", show_label=True),\n",
        "        gr.Text(value=\"geekyrakshit\", label=\"WandB Entity\", show_label=True),\n",
        "        \"image\",\n",
        "        gr.Dropdown(\n",
        "            choices=[\n",
        "                \"geekyrakshit/image-dehazing/denim-sea-39\",\n",
        "                \"geekyrakshit/image-dehazing/run_39nvjow7_model\",\n",
        "                \"geekyrakshit/image-dehazing/run_nj3biqvb_model\"\n",
        "            ]\n",
        "        ),\n",
        "        gr.Dropdown(choices=model_artifact_versions)\n",
        "    ],\n",
        "    outputs=\"image\",\n",
        ")\n",
        "\n",
        "demo.launch(debug=True)"
      ],
      "metadata": {
        "colab": {
          "base_uri": "https://localhost:8080/",
          "height": 913
        },
        "id": "Fsk-lX4ZhZfO",
        "outputId": "5c6b0bd6-bc01-4715-d846-79ea63024d71"
      },
      "execution_count": 4,
      "outputs": [
        {
          "output_type": "stream",
          "name": "stdout",
          "text": [
            "Colab notebook detected. This cell will run indefinitely so that you can see errors and logs. To turn off, set debug=False in launch().\n",
            "Running on public URL: https://21074.gradio.app\n",
            "\n",
            "This share link expires in 72 hours. For free permanent hosting, check out Spaces: https://huggingface.co/spaces\n"
          ]
        },
        {
          "output_type": "display_data",
          "data": {
            "text/plain": [
              "<IPython.core.display.HTML object>"
            ],
            "text/html": [
              "<div><iframe src=\"https://21074.gradio.app\" width=\"900\" height=\"500\" allow=\"autoplay; camera; microphone; clipboard-read; clipboard-write;\" frameborder=\"0\" allowfullscreen></iframe></div>"
            ]
          },
          "metadata": {}
        },
        {
          "output_type": "stream",
          "name": "stderr",
          "text": [
            "ERROR:wandb.jupyter:Failed to detect the name of this notebook, you can set it manually with the WANDB_NOTEBOOK_NAME environment variable to enable code saving.\n",
            "\u001b[34m\u001b[1mwandb\u001b[0m: Currently logged in as: \u001b[33mgeekyrakshit\u001b[0m. Use \u001b[1m`wandb login --relogin`\u001b[0m to force relogin\n"
          ]
        },
        {
          "output_type": "display_data",
          "data": {
            "text/plain": [
              "<IPython.core.display.HTML object>"
            ],
            "text/html": [
              "Tracking run with wandb version 0.13.4"
            ]
          },
          "metadata": {}
        },
        {
          "output_type": "display_data",
          "data": {
            "text/plain": [
              "<IPython.core.display.HTML object>"
            ],
            "text/html": [
              "Run data is saved locally in <code>/content/wandb/run-20221015_130420-1hst1lz9</code>"
            ]
          },
          "metadata": {}
        },
        {
          "output_type": "display_data",
          "data": {
            "text/plain": [
              "<IPython.core.display.HTML object>"
            ],
            "text/html": [
              "Syncing run <strong><a href=\"https://wandb.ai/geekyrakshit/image-dehazing/runs/1hst1lz9\" target=\"_blank\">worthy-star-43</a></strong> to <a href=\"https://wandb.ai/geekyrakshit/image-dehazing\" target=\"_blank\">Weights & Biases</a> (<a href=\"https://wandb.me/run\" target=\"_blank\">docs</a>)<br/>"
            ]
          },
          "metadata": {}
        },
        {
          "output_type": "stream",
          "name": "stderr",
          "text": [
            "\u001b[34m\u001b[1mwandb\u001b[0m:   4 of 4 files downloaded.  \n",
            "WARNING:tensorflow:Unable to restore custom metric. Please ensure that the layer implements `get_config` and `from_config` when saving. In addition, please use the `custom_objects` arg when calling `load_model()`.\n",
            "WARNING:tensorflow:Unable to restore custom metric. Please ensure that the layer implements `get_config` and `from_config` when saving. In addition, please use the `custom_objects` arg when calling `load_model()`.\n"
          ]
        },
        {
          "output_type": "stream",
          "name": "stdout",
          "text": [
            "1/1 [==============================] - 2s 2s/step\n"
          ]
        },
        {
          "output_type": "display_data",
          "data": {
            "text/plain": [
              "<IPython.core.display.HTML object>"
            ],
            "text/html": [
              "Waiting for W&B process to finish... <strong style=\"color:green\">(success).</strong>"
            ]
          },
          "metadata": {}
        },
        {
          "output_type": "display_data",
          "data": {
            "text/plain": [
              "<IPython.core.display.HTML object>"
            ],
            "text/html": [
              "Synced <strong style=\"color:#cdcd00\">worthy-star-43</strong>: <a href=\"https://wandb.ai/geekyrakshit/image-dehazing/runs/1hst1lz9\" target=\"_blank\">https://wandb.ai/geekyrakshit/image-dehazing/runs/1hst1lz9</a><br/>Synced 5 W&B file(s), 1 media file(s), 3 artifact file(s) and 0 other file(s)"
            ]
          },
          "metadata": {}
        },
        {
          "output_type": "display_data",
          "data": {
            "text/plain": [
              "<IPython.core.display.HTML object>"
            ],
            "text/html": [
              "Find logs at: <code>./wandb/run-20221015_130420-1hst1lz9/logs</code>"
            ]
          },
          "metadata": {}
        },
        {
          "output_type": "stream",
          "name": "stdout",
          "text": [
            "Keyboard interruption in main thread... closing server.\n"
          ]
        },
        {
          "output_type": "execute_result",
          "data": {
            "text/plain": [
              "(<gradio.routes.App at 0x7f024ae43650>,\n",
              " 'http://127.0.0.1:7860/',\n",
              " 'https://21074.gradio.app')"
            ]
          },
          "metadata": {},
          "execution_count": 4
        }
      ]
    },
    {
      "cell_type": "code",
      "source": [],
      "metadata": {
        "id": "1cDcwk04h2HW"
      },
      "execution_count": 4,
      "outputs": []
    }
  ]
}